{
  "nbformat": 4,
  "nbformat_minor": 0,
  "metadata": {
    "colab": {
      "provenance": [],
      "authorship_tag": "ABX9TyNihiBQTg++EtV4lv0KnHsP",
      "include_colab_link": true
    },
    "kernelspec": {
      "name": "python3",
      "display_name": "Python 3"
    },
    "language_info": {
      "name": "python"
    }
  },
  "cells": [
    {
      "cell_type": "markdown",
      "metadata": {
        "id": "view-in-github",
        "colab_type": "text"
      },
      "source": [
        "<a href=\"https://colab.research.google.com/github/Ramyaramz2004/rfm-analysis/blob/main/Copy_of_Untitled4.ipynb\" target=\"_parent\"><img src=\"https://colab.research.google.com/assets/colab-badge.svg\" alt=\"Open In Colab\"/></a>"
      ]
    },
    {
      "cell_type": "code",
      "source": [
        "import pandas as pd\n",
        "import numpy as np"
      ],
      "metadata": {
        "id": "YH2dPOLfEEQX"
      },
      "execution_count": null,
      "outputs": []
    },
    {
      "cell_type": "code",
      "source": [
        "simpleRandomSample=dataset.sample(n=5).sort_values(by='Id')\n",
        "mean_simpleRandomSample=round(simpleRandomSample['SalePrice'].mean(),3)\n",
        "print(\"Mean of SimpleRandomSample:\",mean_simpleRandomSample)\n",
        "print(simpleRandomSample)"
      ],
      "metadata": {
        "colab": {
          "base_uri": "https://localhost:8080/"
        },
        "id": "jFayKOwLE9mp",
        "outputId": "615aa793-18f5-4b16-a345-bcca91074e60"
      },
      "execution_count": null,
      "outputs": [
        {
          "output_type": "stream",
          "name": "stdout",
          "text": [
            "Mean of SimpleRandomSample: 171495.8\n",
            "        Id  LotArea  SalePrice\n",
            "42      43     9180     144000\n",
            "54      55     7134     130000\n",
            "538    539    11553     158000\n",
            "747    748    11700     265979\n",
            "1103  1104     8910     159500\n"
          ]
        }
      ]
    },
    {
      "cell_type": "code",
      "source": [
        "index=np.arange(0,len(dataset),step=3)\n",
        "systematicSample=dataset.iloc[index]\n",
        "mean_systematicSample=round(systematicSample['SalePrice'].mean(),3)\n",
        "print(\"Mean of SystematicSample:\",mean_systematicSample)\n",
        "print(systematicSample)"
      ],
      "metadata": {
        "colab": {
          "base_uri": "https://localhost:8080/"
        },
        "id": "xwgLuhmhH5XF",
        "outputId": "3efe46d7-30db-42eb-8f34-4bb73cf8c62d"
      },
      "execution_count": null,
      "outputs": [
        {
          "output_type": "stream",
          "name": "stdout",
          "text": [
            "Mean of SystematicSample: 178464.862\n",
            "        Id  LotArea  SalePrice\n",
            "0        1     8450     208500\n",
            "3        4     9550     140000\n",
            "6        7    10084     307000\n",
            "9       10     7420     118000\n",
            "12      13    12968     144000\n",
            "...    ...      ...        ...\n",
            "1446  1447    26142     157900\n",
            "1449  1450     1533      92000\n",
            "1452  1453     3675     145000\n",
            "1455  1456     7917     175000\n",
            "1458  1459     9717     142125\n",
            "\n",
            "[487 rows x 3 columns]\n"
          ]
        }
      ]
    },
    {
      "cell_type": "code",
      "source": [
        "n=5\n",
        "dataset['cluster_id'] = np.repeat(range(1, n + 1), len(dataset) // n + (len(dataset) % n != 0))\n",
        "index=[]\n",
        "for i in range(len(dataset)):\n",
        "  if dataset['cluster_id'].iloc[i] % 2 == 0:\n",
        "    index.append(i)\n",
        "clusterSample=dataset.iloc[index]\n",
        "mean_clusterSample=round(clusterSample['SalePrice'].mean(),3)\n",
        "print(\"Mean of ClusterSample:\",mean_clusterSample)\n",
        "print(clusterSample)"
      ],
      "metadata": {
        "colab": {
          "base_uri": "https://localhost:8080/"
        },
        "id": "GnSwlVF9JGJk",
        "outputId": "0bacca24-2105-40ce-988b-ada84d429b6f"
      },
      "execution_count": null,
      "outputs": [
        {
          "output_type": "stream",
          "name": "stdout",
          "text": [
            "Mean of ClusterSample: 178023.509\n",
            "        Id  LotArea  SalePrice  cluster_id\n",
            "292    293    11409     131000           2\n",
            "293    294    16659     235000           2\n",
            "294    295     9600     167000           2\n",
            "295    296     7937     142500           2\n",
            "296    297    13710     152000           2\n",
            "...    ...      ...        ...         ...\n",
            "1163  1164    12900     108959           4\n",
            "1164  1165    16157     194000           4\n",
            "1165  1166     9541     233170           4\n",
            "1166  1167    10475     245350           4\n",
            "1167  1168    10852     173000           4\n",
            "\n",
            "[584 rows x 4 columns]\n"
          ]
        }
      ]
    },
    {
      "cell_type": "code",
      "source": [
        "dataset=pd.read_csv('/content/Dataset.csv')\n",
        "dataset['strata']=np.repeat([1,2],len(dataset)/2)\n",
        "index=[]\n",
        "for i in range(0,len(dataset)):\n",
        "  index.append(i)\n",
        "stratifieldRandomSample=dataset.iloc[index]\n",
        "print(stratifieldRandomSample)"
      ],
      "metadata": {
        "colab": {
          "base_uri": "https://localhost:8080/"
        },
        "id": "12lep67PMBbz",
        "outputId": "3180f40e-4d51-4515-9771-27df2669ea06"
      },
      "execution_count": null,
      "outputs": [
        {
          "output_type": "stream",
          "name": "stdout",
          "text": [
            "        Id  LotArea  SalePrice  strata\n",
            "0        1     8450     208500       1\n",
            "1        2     9600     181500       1\n",
            "2        3    11250     223500       1\n",
            "3        4     9550     140000       1\n",
            "4        5    14260     250000       1\n",
            "...    ...      ...        ...     ...\n",
            "1455  1456     7917     175000       2\n",
            "1456  1457    13175     210000       2\n",
            "1457  1458     9042     266500       2\n",
            "1458  1459     9717     142125       2\n",
            "1459  1460     9937     147500       2\n",
            "\n",
            "[1460 rows x 4 columns]\n"
          ]
        }
      ]
    },
    {
      "cell_type": "code",
      "source": [
        "!pip install scikit-learn\n",
        "from sklearn.model_selection import StratifiedShuffleSplit as sss\n",
        "split=sss(n_splits=1,test_size=8)\n",
        "for x,y in split.split(dataset,dataset['strata']):\n",
        "  stratifiedRandomSample=dataset.iloc[y].sort_values(by='SalePrice')\n",
        "print(stratifiedRandomSample)"
      ],
      "metadata": {
        "colab": {
          "base_uri": "https://localhost:8080/"
        },
        "id": "65iLWdN4OlQ-",
        "outputId": "cb74c20a-3f89-4910-c75c-0adc9598f7f0"
      },
      "execution_count": null,
      "outputs": [
        {
          "output_type": "stream",
          "name": "stdout",
          "text": [
            "Requirement already satisfied: scikit-learn in /usr/local/lib/python3.12/dist-packages (1.6.1)\n",
            "Requirement already satisfied: numpy>=1.19.5 in /usr/local/lib/python3.12/dist-packages (from scikit-learn) (2.0.2)\n",
            "Requirement already satisfied: scipy>=1.6.0 in /usr/local/lib/python3.12/dist-packages (from scikit-learn) (1.16.1)\n",
            "Requirement already satisfied: joblib>=1.2.0 in /usr/local/lib/python3.12/dist-packages (from scikit-learn) (1.5.2)\n",
            "Requirement already satisfied: threadpoolctl>=3.1.0 in /usr/local/lib/python3.12/dist-packages (from scikit-learn) (3.6.0)\n",
            "        Id  LotArea  SalePrice  strata\n",
            "149    150     6240     115000       1\n",
            "1153  1154     5890     120500       2\n",
            "1079  1080     8775     126000       2\n",
            "876    877    25286     132250       2\n",
            "970    971    10800     135000       2\n",
            "295    296     7937     142500       1\n",
            "12      13    12968     144000       1\n",
            "158    159    12552     254900       1\n"
          ]
        }
      ]
    }
  ]
}